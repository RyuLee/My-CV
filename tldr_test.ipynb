{
  "nbformat": 4,
  "nbformat_minor": 0,
  "metadata": {
    "colab": {
      "provenance": [],
      "gpuType": "T4",
      "include_colab_link": true
    },
    "kernelspec": {
      "name": "python3",
      "display_name": "Python 3"
    },
    "language_info": {
      "name": "python"
    },
    "accelerator": "GPU"
  },
  "cells": [
    {
      "cell_type": "markdown",
      "metadata": {
        "id": "view-in-github",
        "colab_type": "text"
      },
      "source": [
        "<a href=\"https://colab.research.google.com/github/RyuLee/My-CV/blob/master/tldr_test.ipynb\" target=\"_parent\"><img src=\"https://colab.research.google.com/assets/colab-badge.svg\" alt=\"Open In Colab\"/></a>"
      ]
    },
    {
      "cell_type": "code",
      "execution_count": 1,
      "metadata": {
        "colab": {
          "base_uri": "https://localhost:8080/"
        },
        "id": "O45181Lw6XuM",
        "outputId": "e15295ee-03ae-42e2-b61d-b05b916d0a9f"
      },
      "outputs": [
        {
          "output_type": "stream",
          "name": "stdout",
          "text": [
            "Enter your GitHub token: ··········\n",
            "Cloning into 'tldr'...\n",
            "remote: Enumerating objects: 390, done.\u001b[K\n",
            "remote: Counting objects: 100% (163/163), done.\u001b[K\n",
            "remote: Compressing objects: 100% (105/105), done.\u001b[K\n",
            "remote: Total 390 (delta 64), reused 131 (delta 45), pack-reused 227\u001b[K\n",
            "Receiving objects: 100% (390/390), 458.65 KiB | 12.40 MiB/s, done.\n",
            "Resolving deltas: 100% (142/142), done.\n"
          ]
        }
      ],
      "source": [
        "from getpass import getpass\n",
        "import os\n",
        "\n",
        "# Prompt for GitHub Personal Access Token\n",
        "token = getpass('Enter your GitHub token: ')\n",
        "repo_url = 'https://github.com/Six-Eared-Macaque/tldr.git'  # Change this to your repository's URL\n",
        "\n",
        "# Construct the URL with the token for authentication\n",
        "auth_url = repo_url.replace('https://', f'https://{token}@')\n",
        "\n",
        "# Clone the repo\n",
        "!git clone {auth_url}\n",
        "\n",
        "# Optional: Remove the token from the variable to prevent accidental exposure\n",
        "del token"
      ]
    },
    {
      "cell_type": "code",
      "source": [
        "cd /content/tldr/pipeline"
      ],
      "metadata": {
        "colab": {
          "base_uri": "https://localhost:8080/"
        },
        "id": "lf10_0i96g3v",
        "outputId": "8ed302d9-82f6-4ce5-f3a7-452c70a5dbb4"
      },
      "execution_count": 5,
      "outputs": [
        {
          "output_type": "stream",
          "name": "stdout",
          "text": [
            "/content/tldr/pipeline\n"
          ]
        }
      ]
    },
    {
      "cell_type": "code",
      "source": [
        "ls"
      ],
      "metadata": {
        "id": "7zZzMCKz20Yt",
        "outputId": "b003d3ed-69f8-4bcd-f6cb-aa70cf0bbfcc",
        "colab": {
          "base_uri": "https://localhost:8080/"
        }
      },
      "execution_count": 6,
      "outputs": [
        {
          "output_type": "stream",
          "name": "stdout",
          "text": [
            "\u001b[0m\u001b[01;34mchannels\u001b[0m/  \u001b[01;34mdb\u001b[0m/  \u001b[01;34mexamples\u001b[0m/  keys.env  \u001b[01;34mlib\u001b[0m/  main.py  Pipfile  Pipfile.lock  README.md\n"
          ]
        }
      ]
    },
    {
      "cell_type": "code",
      "source": [
        "!python --version"
      ],
      "metadata": {
        "colab": {
          "base_uri": "https://localhost:8080/"
        },
        "id": "wZfvdd2m6n1B",
        "outputId": "af176ba5-6ff8-45b7-afd8-44b0f8cbc52d"
      },
      "execution_count": null,
      "outputs": [
        {
          "output_type": "stream",
          "name": "stdout",
          "text": [
            "Python 3.10.12\n"
          ]
        }
      ]
    },
    {
      "cell_type": "code",
      "source": [
        "!pip3 install pipenv"
      ],
      "metadata": {
        "colab": {
          "base_uri": "https://localhost:8080/"
        },
        "id": "9Jj57QY66pFn",
        "outputId": "a122d14a-6bc8-4dbb-974c-49a95485ba7a"
      },
      "execution_count": null,
      "outputs": [
        {
          "output_type": "stream",
          "name": "stdout",
          "text": [
            "Collecting pipenv\n",
            "  Downloading pipenv-2023.12.1-py3-none-any.whl (3.1 MB)\n",
            "\u001b[2K     \u001b[90m━━━━━━━━━━━━━━━━━━━━━━━━━━━━━━━━━━━━━━━━\u001b[0m \u001b[32m3.1/3.1 MB\u001b[0m \u001b[31m16.7 MB/s\u001b[0m eta \u001b[36m0:00:00\u001b[0m\n",
            "\u001b[?25hRequirement already satisfied: certifi in /usr/local/lib/python3.10/dist-packages (from pipenv) (2024.2.2)\n",
            "Requirement already satisfied: setuptools>=67 in /usr/local/lib/python3.10/dist-packages (from pipenv) (67.7.2)\n",
            "Collecting virtualenv>=20.24.2 (from pipenv)\n",
            "  Downloading virtualenv-20.25.0-py3-none-any.whl (3.8 MB)\n",
            "\u001b[2K     \u001b[90m━━━━━━━━━━━━━━━━━━━━━━━━━━━━━━━━━━━━━━━━\u001b[0m \u001b[32m3.8/3.8 MB\u001b[0m \u001b[31m32.9 MB/s\u001b[0m eta \u001b[36m0:00:00\u001b[0m\n",
            "\u001b[?25hCollecting distlib<1,>=0.3.7 (from virtualenv>=20.24.2->pipenv)\n",
            "  Downloading distlib-0.3.8-py2.py3-none-any.whl (468 kB)\n",
            "\u001b[2K     \u001b[90m━━━━━━━━━━━━━━━━━━━━━━━━━━━━━━━━━━━━━━━━\u001b[0m \u001b[32m468.9/468.9 kB\u001b[0m \u001b[31m37.0 MB/s\u001b[0m eta \u001b[36m0:00:00\u001b[0m\n",
            "\u001b[?25hRequirement already satisfied: filelock<4,>=3.12.2 in /usr/local/lib/python3.10/dist-packages (from virtualenv>=20.24.2->pipenv) (3.13.1)\n",
            "Requirement already satisfied: platformdirs<5,>=3.9.1 in /usr/local/lib/python3.10/dist-packages (from virtualenv>=20.24.2->pipenv) (4.2.0)\n",
            "Installing collected packages: distlib, virtualenv, pipenv\n",
            "Successfully installed distlib-0.3.8 pipenv-2023.12.1 virtualenv-20.25.0\n"
          ]
        }
      ]
    },
    {
      "cell_type": "code",
      "source": [
        "!pipenv --python 3.10"
      ],
      "metadata": {
        "colab": {
          "base_uri": "https://localhost:8080/"
        },
        "id": "AN4HwnXZ7L0i",
        "outputId": "1addd5c9-975b-4372-b715-aa3e0db100b9"
      },
      "execution_count": null,
      "outputs": [
        {
          "output_type": "stream",
          "name": "stdout",
          "text": [
            "\u001b[1mCreating a virtualenv for this project...\u001b[0m\n",
            "Pipfile: \u001b[33m\u001b[1m/content/tldr/pipeline/Pipfile\u001b[0m\n",
            "\u001b[1mUsing\u001b[0m \u001b[33m\u001b[1m/usr/local/bin/python\u001b[0m \u001b[32m(3.10.12)\u001b[0m \u001b[1mto create virtualenv...\u001b[0m\n",
            "\u001b[2K\u001b[32m⠸\u001b[0m Creating virtual environment...\u001b[36mcreated virtual environment CPython3.10.12.final.0-64 in 917ms\n",
            "  creator CPython3Posix(dest=/root/.local/share/virtualenvs/pipeline-DBlx2yGM, clear=False, no_vcs_ignore=False, global=False)\n",
            "  seeder FromAppData(download=False, pip=bundle, setuptools=bundle, wheel=bundle, via=copy, app_data_dir=/root/.local/share/virtualenv)\n",
            "    added seed packages: pip==23.3.1, setuptools==69.0.2, wheel==0.42.0\n",
            "  activators BashActivator,CShellActivator,FishActivator,NushellActivator,PowerShellActivator,PythonActivator\n",
            "\u001b[0m\n",
            "✔ Successfully created virtual environment!\n",
            "\u001b[2K\u001b[32m⠸\u001b[0m Creating virtual environment...\n",
            "\u001b[1A\u001b[2K\u001b[32mVirtualenv location: /root/.local/share/virtualenvs/pipeline-DBlx2yGM\u001b[0m\n",
            "\u001b[31m\u001b[1mWarning\u001b[0m: Your Pipfile requires \u001b[1mpython_version\u001b[0m \u001b[36m3.10.11\u001b[0m, but you are using \u001b[36m3.10.12\u001b[0m (\u001b[32m/root/.local/share/v/p/bin/python\u001b[0m).\n",
            "  \u001b[32m$ pipenv --rm\u001b[0m and rebuilding the virtual environment may resolve the issue.\n",
            "  \u001b[33m$ pipenv check\u001b[0m will surely fail.\n"
          ]
        }
      ]
    },
    {
      "cell_type": "code",
      "source": [
        "!pipenv install"
      ],
      "metadata": {
        "colab": {
          "base_uri": "https://localhost:8080/"
        },
        "id": "daVn4X4c7QTM",
        "outputId": "0fd2af0a-401a-464f-ecbf-1a1c0b3fb32d"
      },
      "execution_count": null,
      "outputs": [
        {
          "output_type": "stream",
          "name": "stdout",
          "text": [
            "\u001b[1mInstalling dependencies from Pipfile.lock \u001b[0m\u001b[1m(\u001b[0m\u001b[1mb7e2bc\u001b[0m\u001b[1m)\u001b[0m\u001b[1;33m...\u001b[0m\n",
            "To activate this project's virtualenv, run \u001b[33mpipenv shell\u001b[0m.\n",
            "Alternatively, run a command inside the virtualenv with \u001b[33mpipenv run\u001b[0m.\n"
          ]
        }
      ]
    },
    {
      "cell_type": "code",
      "source": [
        "os.environ['PYTHONPATH'] = \"/env/python:/content/tldr:/content/tldr/pipeline\""
      ],
      "metadata": {
        "id": "Rk-nmKoB7UAL"
      },
      "execution_count": null,
      "outputs": []
    },
    {
      "cell_type": "code",
      "source": [
        "os.environ['PYTHONPATH']"
      ],
      "metadata": {
        "colab": {
          "base_uri": "https://localhost:8080/",
          "height": 35
        },
        "id": "g8ot92ls7oge",
        "outputId": "d219c750-610a-4cc0-9538-94d4e6d863b9"
      },
      "execution_count": null,
      "outputs": [
        {
          "output_type": "execute_result",
          "data": {
            "text/plain": [
              "'/env/python:/content/tldr:/content/tldr/pipeline'"
            ],
            "application/vnd.google.colaboratory.intrinsic+json": {
              "type": "string"
            }
          },
          "metadata": {},
          "execution_count": 28
        }
      ]
    },
    {
      "cell_type": "code",
      "source": [
        "!pipenv run python main.py"
      ],
      "metadata": {
        "colab": {
          "base_uri": "https://localhost:8080/"
        },
        "id": "aN_llrk67sQ8",
        "outputId": "b01044bd-cb5b-4605-cf1a-919b279896e0"
      },
      "execution_count": null,
      "outputs": [
        {
          "output_type": "stream",
          "name": "stdout",
          "text": [
            "UCWXYDYv5STLk-zoxMP2I1Lw Dan Koe\n",
            "video id KrCzMfvSDv0; total seconds 1376.0\n",
            "video id SUzKZfyaAK8; total seconds 12161.0\n",
            "video id xG708Y2q0qQ; total seconds 1436.0\n",
            "video id zd1Zc-6KBZY; total seconds 26.0\n",
            "video id _VLZ4b9LHLs; total seconds 1723.0\n",
            "video id 7wMY5MsKEkM; total seconds 1560.0\n",
            "video id iX5CgAwxAtc; total seconds 2940.0\n",
            "video id 8zs8Px_rx0k; total seconds 26.0\n",
            "video id CxJZV-NSORU; total seconds 1791.0\n",
            "video id wXcEtxlrPMA; total seconds 1129.0\n",
            "Feed item not found.\n",
            "The Fastest Way To Acquire High-Value Skills (And Finally Change Your Life)\n",
            "https://www.youtube.com/watch?v=KrCzMfvSDv0\n",
            "[youtube] Extracting URL: https://www.youtube.com/watch?v=KrCzMfvSDv0\n",
            "[youtube] KrCzMfvSDv0: Downloading webpage\n",
            "[youtube] KrCzMfvSDv0: Downloading ios player API JSON\n",
            "[youtube] KrCzMfvSDv0: Downloading android player API JSON\n",
            "[youtube] KrCzMfvSDv0: Downloading m3u8 information\n",
            "[info] KrCzMfvSDv0: Downloading 1 format(s): 251\n",
            "[download] Destination: temp.webm\n",
            "\u001b[K[download] 100% of   21.57MiB in \u001b[1;37m00:00:00\u001b[0m at \u001b[0;32m32.79MiB/s\u001b[0m\n",
            "[ExtractAudio] Destination: temp.mp3\n",
            "Deleting original file temp.webm (pass -k to keep)\n",
            "Downloaded and saved as temp.mp3\n",
            "video_summary: The video transcript emphasizes the importance of embracing discomfort and overwhelming feelings as signs of genuine learning and growth. It highlights the need to push past initial struggles, comparing mental challenges to physical training. The speaker encourages building mental resilience through repeated exposure to new situations and ideas, akin to lifting weights in a gym. Key points include the significance of persisting through confusion until insights finally click, the value of structured projects to apply and solidify learning, and the power of teaching others to deepen understanding. The transcript outlines a systematic approach to accelerated learning by creating projects, problem-solving in real-time, and expanding one's mind through varied sources of information. It also stresses the concept of zooming out mentally to see the bigger picture, making connections between diverse domains to enhance learning efficiency and drive personal growth. Throughout the narrative, the speaker intertwines personal experiences and practical advice, promoting active engagement and continual self-improvement. The transcript also promotes resources like online courses and tools to support individuals in their learning endeavors.\n",
            "User saved successfully: {'ResponseMetadata': {'RequestId': 'MRDLG2OLK27PFBMED1LRQF4K2JVV4KQNSO5AEMVJF66Q9ASUAAJG', 'HTTPStatusCode': 200, 'HTTPHeaders': {'server': 'Server', 'date': 'Sun, 18 Feb 2024 07:02:09 GMT', 'content-type': 'application/x-amz-json-1.0', 'content-length': '2', 'connection': 'keep-alive', 'x-amzn-requestid': 'MRDLG2OLK27PFBMED1LRQF4K2JVV4KQNSO5AEMVJF66Q9ASUAAJG', 'x-amz-crc32': '2745614147'}, 'RetryAttempts': 0}}\n",
            "Feed item not found.\n",
            "The Truth About Society (How To Take Control Of Your Future)\n",
            "https://www.youtube.com/watch?v=xG708Y2q0qQ\n",
            "temp.mp3 already exists. Deleting the file.\n",
            "[youtube] Extracting URL: https://www.youtube.com/watch?v=xG708Y2q0qQ\n",
            "[youtube] xG708Y2q0qQ: Downloading webpage\n",
            "[youtube] xG708Y2q0qQ: Downloading ios player API JSON\n",
            "[youtube] xG708Y2q0qQ: Downloading android player API JSON\n",
            "[youtube] xG708Y2q0qQ: Downloading m3u8 information\n",
            "[info] xG708Y2q0qQ: Downloading 1 format(s): 251\n",
            "[download] Destination: temp.webm\n",
            "\u001b[K[download] 100% of   20.73MiB in \u001b[1;37m00:00:00\u001b[0m at \u001b[0;32m31.26MiB/s\u001b[0m\n",
            "[ExtractAudio] Destination: temp.mp3\n",
            "Deleting original file temp.webm (pass -k to keep)\n",
            "Downloaded and saved as temp.mp3\n",
            "video_summary: The video explores the concept that the mind functions as a programmable machine, driven by societal codes and norms often ingrained since birth. It delves into how individuals adopt certain goals and behaviors influenced by societal systems, leading to a life trapped in a monotonous routine. The speaker emphasizes the importance of questioning societal conditioning, advocating for personal growth, self-improvement, and entrepreneurship as keys to breaking free from the societal matrix. Highlighting the role of education, self-awareness, and creating one's own game within society, the video urges viewers to embrace discomfort, expand perspectives, and carve their own path towards fulfillment and autonomy. Ultimately, it encourages individuals to master survival, challenge societal norms, explore diverse viewpoints, and leverage digital platforms to shape their own destiny.\n",
            "User saved successfully: {'ResponseMetadata': {'RequestId': 'VB3QSOD6A47UG7O2QP8HD1DT0NVV4KQNSO5AEMVJF66Q9ASUAAJG', 'HTTPStatusCode': 200, 'HTTPHeaders': {'server': 'Server', 'date': 'Sun, 18 Feb 2024 07:04:48 GMT', 'content-type': 'application/x-amz-json-1.0', 'content-length': '2', 'connection': 'keep-alive', 'x-amzn-requestid': 'VB3QSOD6A47UG7O2QP8HD1DT0NVV4KQNSO5AEMVJF66Q9ASUAAJG', 'x-amz-crc32': '2745614147'}, 'RetryAttempts': 0}}\n",
            "Feed item not found.\n",
            "This High-Income Skill Made Me $4.1 Million Last Year (Full Guide)\n",
            "https://www.youtube.com/watch?v=_VLZ4b9LHLs\n",
            "temp.mp3 already exists. Deleting the file.\n",
            "[youtube] Extracting URL: https://www.youtube.com/watch?v=_VLZ4b9LHLs\n",
            "[youtube] _VLZ4b9LHLs: Downloading webpage\n",
            "[youtube] _VLZ4b9LHLs: Downloading ios player API JSON\n",
            "[youtube] _VLZ4b9LHLs: Downloading android player API JSON\n",
            "[youtube] _VLZ4b9LHLs: Downloading m3u8 information\n",
            "[info] _VLZ4b9LHLs: Downloading 1 format(s): 251\n",
            "[download] Destination: temp.webm\n",
            "\u001b[K[download] 100% of   26.23MiB in \u001b[1;37m00:00:00\u001b[0m at \u001b[0;32m35.08MiB/s\u001b[0m\n",
            "[ExtractAudio] Destination: temp.mp3\n",
            "Deleting original file temp.webm (pass -k to keep)\n",
            "Downloaded and saved as temp.mp3\n",
            "video_summary: The video discusses the journey of the speaker towards pursuing their passion and emphasizes the importance of personal projects in achieving one's dreams. It highlights the significance of writing as a skill that complements and enhances various aspects of life and business. The speaker delves into a writing framework called APAC (Attention, Perspective, Advantage, Gamify) to guide individuals in creating compelling and impactful content. By sharing personal experiences and practical advice, the video encourages viewers to embrace writing as a key tool for success and self-expression. The speaker also touches on the nuances of short form writing, emphasizing the need for emulation and practice to improve one's writing skills effectively. Overall, the video underscores the transformative power of writing and its role in shaping a fulfilling and purposeful life.\n",
            "User saved successfully: {'ResponseMetadata': {'RequestId': 'SMDMBUL6IKO6A1312IUNATHI17VV4KQNSO5AEMVJF66Q9ASUAAJG', 'HTTPStatusCode': 200, 'HTTPHeaders': {'server': 'Server', 'date': 'Sun, 18 Feb 2024 07:08:02 GMT', 'content-type': 'application/x-amz-json-1.0', 'content-length': '2', 'connection': 'keep-alive', 'x-amzn-requestid': 'SMDMBUL6IKO6A1312IUNATHI17VV4KQNSO5AEMVJF66Q9ASUAAJG', 'x-amz-crc32': '2745614147'}, 'RetryAttempts': 0}}\n",
            "Feed item not found.\n",
            "The 7 Best Internet Business Models (From Zero Experience To Advanced)\n",
            "https://www.youtube.com/watch?v=7wMY5MsKEkM\n",
            "temp.mp3 already exists. Deleting the file.\n",
            "[youtube] Extracting URL: https://www.youtube.com/watch?v=7wMY5MsKEkM\n",
            "[youtube] 7wMY5MsKEkM: Downloading webpage\n",
            "[youtube] 7wMY5MsKEkM: Downloading ios player API JSON\n",
            "[youtube] 7wMY5MsKEkM: Downloading android player API JSON\n",
            "[youtube] 7wMY5MsKEkM: Downloading m3u8 information\n",
            "[info] 7wMY5MsKEkM: Downloading 1 format(s): 251\n",
            "[download] Destination: temp.webm\n",
            "\u001b[K[download] 100% of   24.21MiB in \u001b[1;37m00:00:00\u001b[0m at \u001b[0;32m33.08MiB/s\u001b[0m\n",
            "[ExtractAudio] Destination: temp.mp3\n",
            "Deleting original file temp.webm (pass -k to keep)\n",
            "Downloaded and saved as temp.mp3\n",
            "video_summary: The video discusses the idea of breaking free from societal norms and pursuing your dreams by focusing on personal growth and exploring different career paths. The speaker reflects on their journey of discovering unconventional paths like digital entrepreneurship and creating content. They emphasize the importance of building a personal brand, monetizing through services like coaching or consulting, and eventually transitioning to digital products like courses. The video also covers topics like affiliate marketing, sponsorships, and scaling businesses with software or services. The speaker highlights the significance of creating value and behavior change through products, embracing failure as a learning experience, and aligning one's philosophy with their brand and lifestyle choices. The overall message conveys empowerment through self-discovery and entrepreneurship.\n",
            "User saved successfully: {'ResponseMetadata': {'RequestId': 'Q9L6Q378MC1EQ43DA3DBC42C9VVV4KQNSO5AEMVJF66Q9ASUAAJG', 'HTTPStatusCode': 200, 'HTTPHeaders': {'server': 'Server', 'date': 'Sun, 18 Feb 2024 07:10:57 GMT', 'content-type': 'application/x-amz-json-1.0', 'content-length': '2', 'connection': 'keep-alive', 'x-amzn-requestid': 'Q9L6Q378MC1EQ43DA3DBC42C9VVV4KQNSO5AEMVJF66Q9ASUAAJG', 'x-amz-crc32': '2745614147'}, 'RetryAttempts': 0}}\n",
            "Feed item not found.\n",
            "The Synthesizer: How Average People Are Making Millions With A New Digital Career\n",
            "https://www.youtube.com/watch?v=CxJZV-NSORU\n",
            "temp.mp3 already exists. Deleting the file.\n",
            "[youtube] Extracting URL: https://www.youtube.com/watch?v=CxJZV-NSORU\n",
            "[youtube] CxJZV-NSORU: Downloading webpage\n",
            "[youtube] CxJZV-NSORU: Downloading ios player API JSON\n",
            "[youtube] CxJZV-NSORU: Downloading android player API JSON\n",
            "[youtube] CxJZV-NSORU: Downloading m3u8 information\n",
            "[info] CxJZV-NSORU: Downloading 1 format(s): 251\n",
            "[download] Destination: temp.webm\n",
            "\u001b[K[download] 100% of   27.15MiB in \u001b[1;37m00:00:00\u001b[0m at \u001b[0;32m29.23MiB/s\u001b[0m\n",
            "[ExtractAudio] Destination: temp.mp3\n",
            "Deleting original file temp.webm (pass -k to keep)\n",
            "Downloaded and saved as temp.mp3\n",
            "video_summary: The video transcript shares a captivating journey of building a groundbreaking software project, focusing on the co-founder Matthew's insights and the team's evolution. Initially creating a \"second brain\" app called Value Vault, the team faced challenges until Matthew's epiphany led them to pivot and rebuild, resulting in rapid growth and revenue. The pivot emphasized exploring curiosity, unique paths, and multidisciplinary study to unlock creativity and success. The concept of a \"synthesizer\" as a new digital career path for self-educators and multi-disciplinary enthusiasts is discussed, emphasizing the importance of personal interests, writing, productivity blocks, creativity blocks, and monetization paths. The narrative encourages viewers to embrace curiosity, venture into the unknown, and adopt the habits and mindset of a synthesizer for transformative growth.\n",
            "User saved successfully: {'ResponseMetadata': {'RequestId': 'IGHFK38HVETHF7T0DQKNM748JBVV4KQNSO5AEMVJF66Q9ASUAAJG', 'HTTPStatusCode': 200, 'HTTPHeaders': {'server': 'Server', 'date': 'Sun, 18 Feb 2024 07:13:58 GMT', 'content-type': 'application/x-amz-json-1.0', 'content-length': '2', 'connection': 'keep-alive', 'x-amzn-requestid': 'IGHFK38HVETHF7T0DQKNM748JBVV4KQNSO5AEMVJF66Q9ASUAAJG', 'x-amz-crc32': '2745614147'}, 'RetryAttempts': 0}}\n",
            "Feed item not found.\n",
            "How To Reset Your Life In 7 Days\n",
            "https://www.youtube.com/watch?v=wXcEtxlrPMA\n",
            "temp.mp3 already exists. Deleting the file.\n",
            "[youtube] Extracting URL: https://www.youtube.com/watch?v=wXcEtxlrPMA\n",
            "[youtube] wXcEtxlrPMA: Downloading webpage\n",
            "[youtube] wXcEtxlrPMA: Downloading ios player API JSON\n",
            "[youtube] wXcEtxlrPMA: Downloading android player API JSON\n",
            "[youtube] wXcEtxlrPMA: Downloading m3u8 information\n",
            "[info] wXcEtxlrPMA: Downloading 1 format(s): 251\n",
            "[download] Destination: temp.webm\n",
            "\u001b[K[download] 100% of   17.13MiB in \u001b[1;37m00:00:00\u001b[0m at \u001b[0;32m27.14MiB/s\u001b[0m\n",
            "[ExtractAudio] Destination: temp.mp3\n",
            "Deleting original file temp.webm (pass -k to keep)\n",
            "Downloaded and saved as temp.mp3\n",
            "video_summary: The video transcript delves into the speaker's personal journey of rediscovering joy in life and achieving a higher state of mind. The speaker reflects on past productive periods and outlines their daily routine involving reading, writing, self-improvement, and physical activity. They emphasize the importance of focusing the mind like a supercomputer, processing information deliberately, and avoiding mental clutter. The video offers insights on winning the game of life by managing attention, setting goals, and cultivating habits for self-improvement. Additionally, practical advice is provided on resetting one's life in seven days, including assessing daily routines, clarifying goals, prioritizing tasks, and creating a structured weekly plan. The speaker encourages intentional learning and building habits to fuel personal growth and productivity. The video concludes with information on the speaker's planner and courses for further personal development.\n",
            "User saved successfully: {'ResponseMetadata': {'RequestId': 'CUBIHB36SPBC8LAMPGJAMCS74FVV4KQNSO5AEMVJF66Q9ASUAAJG', 'HTTPStatusCode': 200, 'HTTPHeaders': {'server': 'Server', 'date': 'Sun, 18 Feb 2024 07:16:09 GMT', 'content-type': 'application/x-amz-json-1.0', 'content-length': '2', 'connection': 'keep-alive', 'x-amzn-requestid': 'CUBIHB36SPBC8LAMPGJAMCS74FVV4KQNSO5AEMVJF66Q9ASUAAJG', 'x-amz-crc32': '2745614147'}, 'RetryAttempts': 0}}\n",
            "User saved successfully: {'ResponseMetadata': {'RequestId': 'JFNQGFFUNM00H0OMJLA7MG3JQJVV4KQNSO5AEMVJF66Q9ASUAAJG', 'HTTPStatusCode': 200, 'HTTPHeaders': {'server': 'Server', 'date': 'Sun, 18 Feb 2024 07:16:09 GMT', 'content-type': 'application/x-amz-json-1.0', 'content-length': '2', 'connection': 'keep-alive', 'x-amzn-requestid': 'JFNQGFFUNM00H0OMJLA7MG3JQJVV4KQNSO5AEMVJF66Q9ASUAAJG', 'x-amz-crc32': '2745614147'}, 'RetryAttempts': 0}}\n"
          ]
        }
      ]
    },
    {
      "cell_type": "code",
      "source": [],
      "metadata": {
        "id": "rFVITDXpAUu0"
      },
      "execution_count": null,
      "outputs": []
    }
  ]
}